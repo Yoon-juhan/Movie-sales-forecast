{
 "cells": [
  {
   "cell_type": "code",
   "execution_count": 1,
   "metadata": {},
   "outputs": [],
   "source": [
    "import pandas as pd\n",
    "import numpy as np\n",
    "from backend.database import *"
   ]
  },
  {
   "cell_type": "code",
   "execution_count": 2,
   "metadata": {},
   "outputs": [
    {
     "name": "stdout",
     "output_type": "stream",
     "text": [
      "Index(['순위', '영화명', '개봉일', '점유율', '누적매출액', '누적관객수', '스크린수', '상영횟수', '대표국적',\n",
      "       '제작사', '배급사', '등급', '장르', '감독', '배우'],\n",
      "      dtype='object')\n",
      "insert into boxoffice_data(movie_id, movie_rank, movie_name, open_date, market_share, sales, audience, screen, screening, nationality, manufacturer, distributor, rating, genre, director, actor)\n",
      "              values(boxoffice_sequence.nextval, :1, :2, :3, :4, :5, :6, :7, :8, :9, :10, :11, :12, :13, :14, :15)\n"
     ]
    }
   ],
   "source": [
    "# 박스오피스 데이터 INSERT\n",
    "dataset = pd.read_excel(\"영화 데이터.xlsx\")\n",
    "\n",
    "dataset.drop(['매출액', '관객수', '국적'], axis=1, inplace=True)\n",
    "columns = dataset.columns\n",
    "\n",
    "for c in columns:\n",
    "    dataset[c] = dataset[c].astype(str)\n",
    "print(dataset.columns)\n",
    "# insertBoxoffice(dataset)"
   ]
  },
  {
   "cell_type": "code",
   "execution_count": 3,
   "metadata": {},
   "outputs": [],
   "source": [
    "# 배우 이름 INSERT\n",
    "dataset = pd.read_excel(\"영화 데이터.xlsx\")\n",
    "\n",
    "dataset.drop(dataset[dataset['배우'].isna()].index, inplace=True)\n",
    "\n",
    "actors = []\n",
    "\n",
    "for actor in dataset['배우']:\n",
    "    actors.extend(actor.split(\",\"))\n",
    "\n",
    "actors = pd.DataFrame({\"actors\" : list(set(actors))})\n",
    "\n",
    "# insertActors(actors)"
   ]
  },
  {
   "cell_type": "code",
   "execution_count": 4,
   "metadata": {},
   "outputs": [
    {
     "name": "stdout",
     "output_type": "stream",
     "text": [
      "          directors\n",
      "0           에이세 카르탈\n",
      "1             에피 파빠\n",
      "2         길예르모 아리아가\n",
      "3         알베르토 카발카티\n",
      "4               문인수\n",
      "...             ...\n",
      "11701       데일 파브리가\n",
      "11702       스티브 벤델락\n",
      "11703       스콧 스콰이어\n",
      "11704  비레미크 크뤠이프하우트\n",
      "11705           홍지영\n",
      "\n",
      "[11706 rows x 1 columns]\n",
      "11706\n"
     ]
    }
   ],
   "source": [
    "# 감독 이름 INSERT\n",
    "dataset = pd.read_excel(\"영화 데이터.xlsx\")\n",
    "\n",
    "dataset.drop(dataset[dataset['감독'].isna()].index, inplace=True)\n",
    "\n",
    "directors = []\n",
    "\n",
    "for director in dataset['감독']:\n",
    "    directors.extend(director.split(\",\"))\n",
    "\n",
    "directors = pd.DataFrame({\"directors\" : list(set(directors))})\n",
    "\n",
    "# insertDirectors(directors)"
   ]
  },
  {
   "cell_type": "code",
   "execution_count": 8,
   "metadata": {},
   "outputs": [],
   "source": [
    "# 배급사 이름 INSERT\n",
    "dataset = pd.read_excel(\"영화 데이터.xlsx\")\n",
    "\n",
    "dataset.drop(dataset[dataset['배급사'].isna()].index, inplace=True)\n",
    "\n",
    "distributors = []\n",
    "\n",
    "for distributor in dataset['배급사']:\n",
    "    distributors.extend(distributor.split(\",\"))\n",
    "\n",
    "distributors = pd.DataFrame({\"distributors\" : list(set(distributors))})\n",
    "\n",
    "insertDistributors(distributors)"
   ]
  }
 ],
 "metadata": {
  "kernelspec": {
   "display_name": "Python 3",
   "language": "python",
   "name": "python3"
  },
  "language_info": {
   "codemirror_mode": {
    "name": "ipython",
    "version": 3
   },
   "file_extension": ".py",
   "mimetype": "text/x-python",
   "name": "python",
   "nbconvert_exporter": "python",
   "pygments_lexer": "ipython3",
   "version": "3.11.5"
  }
 },
 "nbformat": 4,
 "nbformat_minor": 2
}
